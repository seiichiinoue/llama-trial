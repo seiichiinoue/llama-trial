{
 "cells": [
  {
   "cell_type": "code",
   "execution_count": 1,
   "metadata": {},
   "outputs": [],
   "source": [
    "import os\n",
    "from dotenv import load_dotenv\n",
    "import replicate"
   ]
  },
  {
   "cell_type": "code",
   "execution_count": 2,
   "metadata": {},
   "outputs": [
    {
     "data": {
      "text/plain": [
       "True"
      ]
     },
     "execution_count": 2,
     "metadata": {},
     "output_type": "execute_result"
    }
   ],
   "source": [
    "load_dotenv()"
   ]
  },
  {
   "cell_type": "code",
   "execution_count": 3,
   "metadata": {},
   "outputs": [],
   "source": [
    "def ChatCompletion(prompt: str) -> str:\n",
    "    output = replicate.run(\n",
    "        \"replicate/llama-2-70b-chat:2c1608e18606fad2812020dc541930f2d0495ce32eee50074220b87300bc16e1\",\n",
    "        input={\"prompt\": prompt}\n",
    "    )\n",
    "    output_list = list(output)\n",
    "    output_str = \"\".join(output_list)\n",
    "    return output_str\n"
   ]
  },
  {
   "cell_type": "code",
   "execution_count": 4,
   "metadata": {},
   "outputs": [
    {
     "name": "stdout",
     "output_type": "stream",
     "text": [
      " Sure, I'd be happy to help! Apples and oranges are both types of fruit, but they have some key differences.\n",
      "\n",
      "Apples are typically round or oval in shape and have a thin skin that is often red, green, or yellow. They are crunchy and juicy, with a sweet or tart taste depending on the variety. The flesh of an apple is white or pale yellow, and it has a prominent core that contains seeds.\n",
      "\n",
      "Oranges, on the other hand, are spherical in shape and have a thick, easy-to-peel skin that is usually orange (hence the name!). They are also juicy, but generally less crunchy than apples. The flesh of an orange is segmented and divides easily into wedges; the segments are usually orange or yellow in color. Oranges have a small number of seeds, which are located in the center of the fruit.\n",
      "\n",
      "So, to summarize: apples are typically crunchier and more tart than oranges, while oranges are easier to peel and have a sweeter flavor. Both fruits are delicious and make great snacks!\n"
     ]
    }
   ],
   "source": [
    "ret = ChatCompletion(prompt=\"Describe the difference between apples and oranges.\")\n",
    "print(ret)"
   ]
  },
  {
   "cell_type": "code",
   "execution_count": 5,
   "metadata": {},
   "outputs": [
    {
     "name": "stdout",
     "output_type": "stream",
     "text": [
      " Sure, I'd be happy to help!\n",
      "\n",
      "りんご (ringo) and みかん (mikan) are both types of citrus fruits that are commonly consumed in Japan. While they may look similar at first glance, there are actually some key differences between the two fruits.\n",
      "\n",
      "Here are some of the main differences:\n",
      "\n",
      "1. Appearance: りんご (ringo) is typically larger than みかん (mikan), with a thicker skin that is often yellow or green in color. みかん (mikan), on the other hand, is smaller and has a thinner skin that is usually orange or yellow.\n",
      "2. Taste: りんご (ringo) tends to be sweeter and less sour than みかん (mikan). The taste of りんご (ringo) is often described as being more mellow and rounded, while みかん (mikan) has a brighter, more tangy flavor.\n",
      "3. Texture: りんご (ringo) has a firmer texture than みかん (mikan), which is usually softer and juicier.\n",
      "4. Seasonality: りんご (ringo) is typically available from December to April, while みかん (mikan) is in season from November to March.\n",
      "5. Origin: りんご (ringo) is originally from China, while みかん (mikan) is believed to have originated in Japan.\n",
      "\n",
      "Overall, while both りんご (ringo) and みかん (mikan) are delicious citrus fruits, they have some noticeable differences in terms of appearance, taste, texture, seasonality, and origin.\n"
     ]
    }
   ],
   "source": [
    "ret = ChatCompletion(prompt=\"りんごとみかんの違いについて教えてください\")\n",
    "print(ret)"
   ]
  },
  {
   "cell_type": "code",
   "execution_count": 6,
   "metadata": {},
   "outputs": [
    {
     "name": "stdout",
     "output_type": "stream",
     "text": [
      " Sure, I'd be happy to help!\n",
      "\n",
      "Ringo (りんご) and mikan (みかん) are both types of citrus fruits that are commonly consumed in Japan. While they may look similar at first glance, there are actually some key differences between the two fruits.\n",
      "\n",
      "Here are some of the main differences:\n",
      "\n",
      "1. Appearance: Ringo are typically larger than mikan, with a rougher skin that is more orange in color. Mikan, on the other hand, are smaller and have a smoother skin that is yellowish-green in color.\n",
      "2. Taste: Ringo are known for their sweet and slightly tart flavor, while mikan are generally sweeter and less tart.\n",
      "3. Texture: Ringo are usually firmer and crunchier than mikan, which are softer and juicier.\n",
      "4. Seasonality: Ringo are typically harvested in the winter months, while mikan are harvested in the summer and fall months.\n",
      "5. Uses: Ringo are often used in traditional Japanese dishes such as bentou (boxed lunches) and osechi (New Year's rice cakes), while mikan are commonly eaten fresh or used in desserts like tiramisu.\n",
      "\n",
      "I hope this helps you understand the difference between ringo and mikan!\n"
     ]
    }
   ],
   "source": [
    "ret = ChatCompletion(prompt=\"りんごとみかんの違いについて日本語で教えてください\")\n",
    "print(ret)"
   ]
  },
  {
   "cell_type": "code",
   "execution_count": 7,
   "metadata": {},
   "outputs": [
    {
     "name": "stdout",
     "output_type": "stream",
     "text": [
      " A recent flood in Newton Stewart, Scotland caused significant damage, with the River Cree overflowing into the town and affecting many businesses and households. The First Minister visited the area to assess the damage, which included breaching of a retaining wall and flooding of commercial properties. Some residents expressed frustration at the lack of preventative measures, while others praised the multi-agency response. A flood alert remains in place across the Borders due to continuous rain, and there are calls for more defenses in Peebles. The Scottish Borders Council has listed the worst-affected roads on its website, and drivers have been advised not to ignore closure signs. The Labour Party's deputy Scottish leader has called for immediate action to protect vulnerable areas and a clear timetable for flood prevention plans. Residents who have been affected by flooding in Dumfries and Galloway or the Borders are invited to share their experiences and feedback on the handling of the situation via email.\n"
     ]
    }
   ],
   "source": [
    "# cf: xsum https://huggingface.co/datasets/EdinburghNLP/xsum/viewer/default/train?row=0\n",
    "prompt = \"\"\"Summarize following paragraph:\n",
    "The full cost of damage in Newton Stewart, one of the areas worst affected, is still being assessed. Repair work is ongoing in Hawick and many roads in Peeblesshire remain badly affected by standing water. Trains on the west coast mainline face disruption due to damage at the Lamington Viaduct. Many businesses and householders were affected by flooding in Newton Stewart after the River Cree overflowed into the town. First Minister Nicola Sturgeon visited the area to inspect the damage. The waters breached a retaining wall, flooding many commercial properties on Victoria Street - the main shopping thoroughfare. Jeanette Tate, who owns the Cinnamon Cafe which was badly affected, said she could not fault the multi-agency response once the flood hit. However, she said more preventative work could have been carried out to ensure the retaining wall did not fail. \"It is difficult but I do think there is so much publicity for Dumfries and the Nith - and I totally appreciate that - but it is almost like we're neglected or forgotten,\" she said. \"That may not be true but it is perhaps my perspective over the last few days. \"Why were you not ready to help us a bit more when the warning and the alarm alerts had gone out?\" Meanwhile, a flood alert remains in place across the Borders because of the constant rain. Peebles was badly hit by problems, sparking calls to introduce more defences in the area. Scottish Borders Council has put a list on its website of the roads worst affected and drivers have been urged not to ignore closure signs. The Labour Party's deputy Scottish leader Alex Rowley was in Hawick on Monday to see the situation first hand. He said it was important to get the flood protection plan right but backed calls to speed up the process. \"I was quite taken aback by the amount of damage that has been done,\" he said. \"Obviously it is heart-breaking for people who have been forced out of their homes and the impact on businesses.\" He said it was important that \"immediate steps\" were taken to protect the areas most vulnerable and a clear timetable put in place for flood prevention plans. Have you been affected by flooding in Dumfries and Galloway or the Borders? Tell us about your experience of the situation and how it was handled. Email us on selkirk.news@bbc.co.uk or dumfries@bbc.co.uk.\t\n",
    "\"\"\"\n",
    "ret = ChatCompletion(prompt=prompt)\n",
    "print(ret)"
   ]
  },
  {
   "cell_type": "code",
   "execution_count": null,
   "metadata": {},
   "outputs": [],
   "source": []
  }
 ],
 "metadata": {
  "kernelspec": {
   "display_name": "llama-trial-CT7wJQnZ-py3.11",
   "language": "python",
   "name": "python3"
  },
  "language_info": {
   "codemirror_mode": {
    "name": "ipython",
    "version": 3
   },
   "file_extension": ".py",
   "mimetype": "text/x-python",
   "name": "python",
   "nbconvert_exporter": "python",
   "pygments_lexer": "ipython3",
   "version": "3.11.5"
  },
  "orig_nbformat": 4
 },
 "nbformat": 4,
 "nbformat_minor": 2
}
